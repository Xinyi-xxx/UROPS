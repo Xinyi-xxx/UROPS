{
 "cells": [
  {
   "cell_type": "code",
   "execution_count": 2,
   "metadata": {},
   "outputs": [
    {
     "name": "stdout",
     "output_type": "stream",
     "text": [
      "subject_id    38605\n",
      "dtype: int64\n",
      "{'Albumin': 22958, 'Bicarbonate': 747, 'BUN': 496, 'Calcium': 5917, 'FreeCalcium': 19648, 'Chloride': 560, 'Magnesium': 2584, 'Phosphate': 5857, 'Hgb': 0, 'Sodium': 475, 'Creatinine': 494, 'Platelet': 548, 'Potassium': 444, 'Lactate': 15494, 'WBC': 617, 'Glucose': 475}\n"
     ]
    },
    {
     "data": {
      "image/png": "[encoded data removed]",
      "text/plain": [
       "<Figure size 1440x576 with 1 Axes>"
      ]
     },
     "metadata": {
      "needs_background": "light"
     },
     "output_type": "display_data"
    }
   ],
   "source": [
    "import pandas as pd\n",
    "import numpy as np\n",
    "import matplotlib.pyplot as plt\n",
    "\n",
    "data = pd.read_csv(\"S:/NUS/Year Two/UROPS/firstlab_xy.csv\")\n",
    "total_num = data[['subject_id']].count()\n",
    "print(total_num)\n",
    "# creating column lables:\n",
    "\n",
    "lab = data.columns.values[1:]\n",
    "\n",
    "# get missing data: \n",
    "'''\n",
    "OLD\n",
    "lab_ranges = {\"Albumin\":[3.5,5.5], \n",
    "              \"Bicarbonate\": [22,32], \n",
    "              \"BUN\": [6, 20],\n",
    "              \"Calcium\": [8.4, 10.3],\n",
    "              \"Chloride\": [96, 108],\n",
    "              \"Creatinine\": [0.4, 1.1],\n",
    "              \"Glucose\": [70, 100],\n",
    "              \"Hemoglobin\": [11.2, 15.7],\n",
    "              \"Lactate\": [0.5, 2],\n",
    "              \"Magnesium\": [1.6, 2.6],\n",
    "              \"Phosphate\": [2.7, 4.5],\n",
    "              \"Potassium\": [3.3, 5.1],\n",
    "              \"Sodium\": [133, 145],\n",
    "              \"FreeCalcium\": [1.1, 1.35]}  \n",
    "'''\n",
    "lab_ranges = {'Albumin':        [3.5, 5.5],                \n",
    "              'Bicarbonate':    [21,29],                     \n",
    "              'BUN':            [10,20],                                          \n",
    "              'Calcium':        [8.5,10.5],                                       \n",
    "              'FreeCalcium':    [1.05,1.37],                  \n",
    "              'Chloride':       [98,106],                       \n",
    "              'Magnesium':      [1.8,3],                   \n",
    "              'Phosphate':      [3,4.5],                     \n",
    "              'Hgb':     [12,18],                   \n",
    "              'Sodium':         [136,145],                \n",
    "              'Creatinine':     [0.5,1.5],                   \n",
    "              'Platelet':       [150,400],                  \n",
    "              'Potassium':      [3.3,5.5],                 \n",
    "              'Lactate':        [0.5,2.0],                      \n",
    "              'WBC':            [4.5,11],                     \n",
    "              'Glucose':        [75.0, 115.0]            \n",
    "             } \n",
    "\n",
    "\n",
    "missing = dict((i, 0) for i in lab_ranges.keys())\n",
    "\n",
    "for i in missing.keys():\n",
    "    if  (i.lower() + \"_max\") in lab: \n",
    "        dropna_num = data[[i.lower() + '_max']].dropna().count()\n",
    "        missing[i] = int(total_num) - int(dropna_num)\n",
    "print(missing)\n",
    "\n",
    "\n",
    "# plot missing data\n",
    "\"\"\"\n",
    "create a histal gram: x axis is the name of the lab tests, y axis is the count of missing values\n",
    "total num is the same 38605 for every lab tests\n",
    "use for loop to loop the different lab tests, get dropna_num and then subtract, \n",
    "store the differences (missing data) in the table/dataframe(with name of lab test as key and num of missing data as value)\n",
    "plt.hist()\n",
    "\"\"\"\n",
    "plt.figure(figsize=(20,8))\n",
    "color_list = plt.cm.Set3(np.linspace(0, 1, len(missing.keys())))\n",
    "plt.bar(missing.keys(), missing.values(), color = color_list)\n",
    "plt.title(\"Patients with missing lab measurements\")\n",
    "# plt.xticks(rotation='vertical')\n",
    "plt.ylabel(\"No. of patients\")\n",
    "plt.savefig(\"mimic_figure/mimic_missing_data.png\")\n",
    "plt.show()\n",
    "\n"
   ]
  }
 ],
 "metadata": {
  "kernelspec": {
   "display_name": "Python 3",
   "language": "python",
   "name": "python3"
  },
  "language_info": {
   "codemirror_mode": {
    "name": "ipython",
    "version": 3
   },
   "file_extension": ".py",
   "mimetype": "text/x-python",
   "name": "python",
   "nbconvert_exporter": "python",
   "pygments_lexer": "ipython3",
   "version": "3.8.1"
  }
 },
 "nbformat": 4,
 "nbformat_minor": 4
}
